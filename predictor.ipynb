{
 "cells": [
  {
   "cell_type": "code",
   "execution_count": 1,
   "metadata": {},
   "outputs": [],
   "source": [
    "# importing libraries\n",
    "import numpy as np\n",
    "import pandas as pd \n",
    "import matplotlib.pyplot as plt \n",
    "import seaborn as sns\n",
    "%matplotlib inline"
   ]
  },
  {
   "cell_type": "code",
   "execution_count": 2,
   "metadata": {},
   "outputs": [],
   "source": [
    "# reading data into the dataframe\n",
    "df = pd.read_csv('data.csv')"
   ]
  },
  {
   "cell_type": "code",
   "execution_count": 3,
   "metadata": {},
   "outputs": [
    {
     "data": {
      "text/html": [
       "<div>\n",
       "<style scoped>\n",
       "    .dataframe tbody tr th:only-of-type {\n",
       "        vertical-align: middle;\n",
       "    }\n",
       "\n",
       "    .dataframe tbody tr th {\n",
       "        vertical-align: top;\n",
       "    }\n",
       "\n",
       "    .dataframe thead th {\n",
       "        text-align: right;\n",
       "    }\n",
       "</style>\n",
       "<table border=\"1\" class=\"dataframe\">\n",
       "  <thead>\n",
       "    <tr style=\"text-align: right;\">\n",
       "      <th></th>\n",
       "      <th>age_at_diagnosis</th>\n",
       "      <th>chemotherapy</th>\n",
       "      <th>cohort</th>\n",
       "      <th>neoplasm_histologic_grade</th>\n",
       "      <th>hormone_therapy</th>\n",
       "      <th>lymph_nodes_examined_positive</th>\n",
       "      <th>mutation_count</th>\n",
       "      <th>nottingham_prognostic_index</th>\n",
       "      <th>overall_survival</th>\n",
       "      <th>radio_therapy</th>\n",
       "      <th>...</th>\n",
       "      <th>oncotree_code_IDC</th>\n",
       "      <th>oncotree_code_ILC</th>\n",
       "      <th>oncotree_code_IMMC</th>\n",
       "      <th>oncotree_code_MDLC</th>\n",
       "      <th>survival_period</th>\n",
       "      <th>pr_status_Negative</th>\n",
       "      <th>pr_status_Positive</th>\n",
       "      <th>death_from_cancer_Died of Disease</th>\n",
       "      <th>death_from_cancer_Died of Other Causes</th>\n",
       "      <th>death_from_cancer_Living</th>\n",
       "    </tr>\n",
       "  </thead>\n",
       "  <tbody>\n",
       "    <tr>\n",
       "      <th>0</th>\n",
       "      <td>73</td>\n",
       "      <td>0</td>\n",
       "      <td>1</td>\n",
       "      <td>1.0</td>\n",
       "      <td>0</td>\n",
       "      <td>0</td>\n",
       "      <td>1.0</td>\n",
       "      <td>2.060</td>\n",
       "      <td>1</td>\n",
       "      <td>0</td>\n",
       "      <td>...</td>\n",
       "      <td>1</td>\n",
       "      <td>0</td>\n",
       "      <td>0</td>\n",
       "      <td>0</td>\n",
       "      <td>1.0</td>\n",
       "      <td>0</td>\n",
       "      <td>1</td>\n",
       "      <td>0</td>\n",
       "      <td>0</td>\n",
       "      <td>1</td>\n",
       "    </tr>\n",
       "    <tr>\n",
       "      <th>1</th>\n",
       "      <td>73</td>\n",
       "      <td>0</td>\n",
       "      <td>1</td>\n",
       "      <td>1.0</td>\n",
       "      <td>1</td>\n",
       "      <td>0</td>\n",
       "      <td>3.0</td>\n",
       "      <td>2.018</td>\n",
       "      <td>1</td>\n",
       "      <td>0</td>\n",
       "      <td>...</td>\n",
       "      <td>0</td>\n",
       "      <td>0</td>\n",
       "      <td>0</td>\n",
       "      <td>1</td>\n",
       "      <td>1.0</td>\n",
       "      <td>0</td>\n",
       "      <td>1</td>\n",
       "      <td>0</td>\n",
       "      <td>0</td>\n",
       "      <td>1</td>\n",
       "    </tr>\n",
       "    <tr>\n",
       "      <th>2</th>\n",
       "      <td>34</td>\n",
       "      <td>0</td>\n",
       "      <td>1</td>\n",
       "      <td>3.0</td>\n",
       "      <td>1</td>\n",
       "      <td>15</td>\n",
       "      <td>2.0</td>\n",
       "      <td>6.050</td>\n",
       "      <td>1</td>\n",
       "      <td>0</td>\n",
       "      <td>...</td>\n",
       "      <td>1</td>\n",
       "      <td>0</td>\n",
       "      <td>0</td>\n",
       "      <td>0</td>\n",
       "      <td>1.0</td>\n",
       "      <td>1</td>\n",
       "      <td>0</td>\n",
       "      <td>0</td>\n",
       "      <td>0</td>\n",
       "      <td>1</td>\n",
       "    </tr>\n",
       "    <tr>\n",
       "      <th>3</th>\n",
       "      <td>53</td>\n",
       "      <td>0</td>\n",
       "      <td>1</td>\n",
       "      <td>3.0</td>\n",
       "      <td>0</td>\n",
       "      <td>0</td>\n",
       "      <td>3.0</td>\n",
       "      <td>4.038</td>\n",
       "      <td>1</td>\n",
       "      <td>0</td>\n",
       "      <td>...</td>\n",
       "      <td>1</td>\n",
       "      <td>0</td>\n",
       "      <td>0</td>\n",
       "      <td>0</td>\n",
       "      <td>1.0</td>\n",
       "      <td>1</td>\n",
       "      <td>0</td>\n",
       "      <td>0</td>\n",
       "      <td>0</td>\n",
       "      <td>1</td>\n",
       "    </tr>\n",
       "    <tr>\n",
       "      <th>4</th>\n",
       "      <td>63</td>\n",
       "      <td>0</td>\n",
       "      <td>3</td>\n",
       "      <td>3.0</td>\n",
       "      <td>1</td>\n",
       "      <td>0</td>\n",
       "      <td>9.0</td>\n",
       "      <td>4.056</td>\n",
       "      <td>1</td>\n",
       "      <td>1</td>\n",
       "      <td>...</td>\n",
       "      <td>0</td>\n",
       "      <td>0</td>\n",
       "      <td>1</td>\n",
       "      <td>0</td>\n",
       "      <td>1.0</td>\n",
       "      <td>1</td>\n",
       "      <td>0</td>\n",
       "      <td>0</td>\n",
       "      <td>0</td>\n",
       "      <td>1</td>\n",
       "    </tr>\n",
       "  </tbody>\n",
       "</table>\n",
       "<p>5 rows × 61 columns</p>\n",
       "</div>"
      ],
      "text/plain": [
       "   age_at_diagnosis  chemotherapy  cohort  neoplasm_histologic_grade  \\\n",
       "0                73             0       1                        1.0   \n",
       "1                73             0       1                        1.0   \n",
       "2                34             0       1                        3.0   \n",
       "3                53             0       1                        3.0   \n",
       "4                63             0       3                        3.0   \n",
       "\n",
       "   hormone_therapy  lymph_nodes_examined_positive  mutation_count  \\\n",
       "0                0                              0             1.0   \n",
       "1                1                              0             3.0   \n",
       "2                1                             15             2.0   \n",
       "3                0                              0             3.0   \n",
       "4                1                              0             9.0   \n",
       "\n",
       "   nottingham_prognostic_index  overall_survival  radio_therapy  ...  \\\n",
       "0                        2.060                 1              0  ...   \n",
       "1                        2.018                 1              0  ...   \n",
       "2                        6.050                 1              0  ...   \n",
       "3                        4.038                 1              0  ...   \n",
       "4                        4.056                 1              1  ...   \n",
       "\n",
       "   oncotree_code_IDC  oncotree_code_ILC  oncotree_code_IMMC  \\\n",
       "0                  1                  0                   0   \n",
       "1                  0                  0                   0   \n",
       "2                  1                  0                   0   \n",
       "3                  1                  0                   0   \n",
       "4                  0                  0                   1   \n",
       "\n",
       "   oncotree_code_MDLC  survival_period  pr_status_Negative  \\\n",
       "0                   0              1.0                   0   \n",
       "1                   1              1.0                   0   \n",
       "2                   0              1.0                   1   \n",
       "3                   0              1.0                   1   \n",
       "4                   0              1.0                   1   \n",
       "\n",
       "   pr_status_Positive  death_from_cancer_Died of Disease  \\\n",
       "0                   1                                  0   \n",
       "1                   1                                  0   \n",
       "2                   0                                  0   \n",
       "3                   0                                  0   \n",
       "4                   0                                  0   \n",
       "\n",
       "   death_from_cancer_Died of Other Causes  death_from_cancer_Living  \n",
       "0                                       0                         1  \n",
       "1                                       0                         1  \n",
       "2                                       0                         1  \n",
       "3                                       0                         1  \n",
       "4                                       0                         1  \n",
       "\n",
       "[5 rows x 61 columns]"
      ]
     },
     "execution_count": 3,
     "metadata": {},
     "output_type": "execute_result"
    }
   ],
   "source": [
    "# displaying first five rows\n",
    "df.head()"
   ]
  },
  {
   "cell_type": "code",
   "execution_count": 4,
   "metadata": {},
   "outputs": [
    {
     "data": {
      "text/plain": [
       "(1226, 61)"
      ]
     },
     "execution_count": 4,
     "metadata": {},
     "output_type": "execute_result"
    }
   ],
   "source": [
    "# shape of the dataframe\n",
    "df.shape"
   ]
  },
  {
   "cell_type": "code",
   "execution_count": 5,
   "metadata": {},
   "outputs": [
    {
     "name": "stdout",
     "output_type": "stream",
     "text": [
      "<class 'pandas.core.frame.DataFrame'>\n",
      "RangeIndex: 1226 entries, 0 to 1225\n",
      "Data columns (total 61 columns):\n",
      " #   Column                                                          Non-Null Count  Dtype  \n",
      "---  ------                                                          --------------  -----  \n",
      " 0   age_at_diagnosis                                                1226 non-null   int64  \n",
      " 1   chemotherapy                                                    1226 non-null   int64  \n",
      " 2   cohort                                                          1226 non-null   int64  \n",
      " 3   neoplasm_histologic_grade                                       1226 non-null   float64\n",
      " 4   hormone_therapy                                                 1226 non-null   int64  \n",
      " 5   lymph_nodes_examined_positive                                   1226 non-null   int64  \n",
      " 6   mutation_count                                                  1226 non-null   float64\n",
      " 7   nottingham_prognostic_index                                     1226 non-null   float64\n",
      " 8   overall_survival                                                1226 non-null   int64  \n",
      " 9   radio_therapy                                                   1226 non-null   int64  \n",
      " 10  tumor_size                                                      1226 non-null   float64\n",
      " 11  tumor_stage                                                     1226 non-null   float64\n",
      " 12  type_of_breast_surgery_BREAST CONSERVING                        1226 non-null   int64  \n",
      " 13  type_of_breast_surgery_MASTECTOMY                               1226 non-null   int64  \n",
      " 14  cancer_type_detailed_Breast                                     1226 non-null   int64  \n",
      " 15  cancer_type_detailed_Breast Invasive Ductal Carcinoma           1226 non-null   int64  \n",
      " 16  cancer_type_detailed_Breast Invasive Lobular Carcinoma          1226 non-null   int64  \n",
      " 17  cancer_type_detailed_Breast Invasive Mixed Mucinous Carcinoma   1226 non-null   int64  \n",
      " 18  cancer_type_detailed_Breast Mixed Ductal and Lobular Carcinoma  1226 non-null   int64  \n",
      " 19  cellularity_High                                                1226 non-null   int64  \n",
      " 20  cellularity_Low                                                 1226 non-null   int64  \n",
      " 21  cellularity_Moderate                                            1226 non-null   int64  \n",
      " 22  pam50_+_claudin-low_subtype_Basal                               1226 non-null   int64  \n",
      " 23  pam50_+_claudin-low_subtype_Her2                                1226 non-null   int64  \n",
      " 24  pam50_+_claudin-low_subtype_LumA                                1226 non-null   int64  \n",
      " 25  pam50_+_claudin-low_subtype_LumB                                1226 non-null   int64  \n",
      " 26  pam50_+_claudin-low_subtype_NC                                  1226 non-null   int64  \n",
      " 27  pam50_+_claudin-low_subtype_Normal                              1226 non-null   int64  \n",
      " 28  pam50_+_claudin-low_subtype_claudin-low                         1226 non-null   int64  \n",
      " 29  er_status_measured_by_ihc_Negative                              1226 non-null   int64  \n",
      " 30  er_status_measured_by_ihc_Positve                               1226 non-null   int64  \n",
      " 31  er_status_Negative                                              1226 non-null   int64  \n",
      " 32  er_status_Positive                                              1226 non-null   int64  \n",
      " 33  her2_status_measured_by_snp6_GAIN                               1226 non-null   int64  \n",
      " 34  her2_status_measured_by_snp6_LOSS                               1226 non-null   int64  \n",
      " 35  her2_status_measured_by_snp6_NEUTRAL                            1226 non-null   int64  \n",
      " 36  her2_status_measured_by_snp6_UNDEF                              1226 non-null   int64  \n",
      " 37  her2_status_Negative                                            1226 non-null   int64  \n",
      " 38  her2_status_Positive                                            1226 non-null   int64  \n",
      " 39  tumor_other_histologic_subtype_Ductal/NST                       1226 non-null   int64  \n",
      " 40  tumor_other_histologic_subtype_Lobular                          1226 non-null   int64  \n",
      " 41  tumor_other_histologic_subtype_Medullary                        1226 non-null   int64  \n",
      " 42  tumor_other_histologic_subtype_Mixed                            1226 non-null   int64  \n",
      " 43  tumor_other_histologic_subtype_Mucinous                         1226 non-null   int64  \n",
      " 44  tumor_other_histologic_subtype_Other                            1226 non-null   int64  \n",
      " 45  tumor_other_histologic_subtype_Tubular/ cribriform              1226 non-null   int64  \n",
      " 46  inferred_menopausal_state_Post                                  1226 non-null   int64  \n",
      " 47  inferred_menopausal_state_Pre                                   1226 non-null   int64  \n",
      " 48  primary_tumor_laterality_Left                                   1226 non-null   int64  \n",
      " 49  primary_tumor_laterality_Right                                  1226 non-null   int64  \n",
      " 50  oncotree_code_BREAST                                            1226 non-null   int64  \n",
      " 51  oncotree_code_IDC                                               1226 non-null   int64  \n",
      " 52  oncotree_code_ILC                                               1226 non-null   int64  \n",
      " 53  oncotree_code_IMMC                                              1226 non-null   int64  \n",
      " 54  oncotree_code_MDLC                                              1226 non-null   int64  \n",
      " 55  survival_period                                                 1226 non-null   float64\n",
      " 56  pr_status_Negative                                              1226 non-null   int64  \n",
      " 57  pr_status_Positive                                              1226 non-null   int64  \n",
      " 58  death_from_cancer_Died of Disease                               1226 non-null   int64  \n",
      " 59  death_from_cancer_Died of Other Causes                          1226 non-null   int64  \n",
      " 60  death_from_cancer_Living                                        1226 non-null   int64  \n",
      "dtypes: float64(6), int64(55)\n",
      "memory usage: 584.4 KB\n"
     ]
    }
   ],
   "source": [
    "# concise summary of dataframe\n",
    "df.info()"
   ]
  },
  {
   "cell_type": "code",
   "execution_count": 6,
   "metadata": {},
   "outputs": [
    {
     "data": {
      "text/plain": [
       "Index(['age_at_diagnosis', 'chemotherapy', 'cohort',\n",
       "       'neoplasm_histologic_grade', 'hormone_therapy',\n",
       "       'lymph_nodes_examined_positive', 'mutation_count',\n",
       "       'nottingham_prognostic_index', 'overall_survival', 'radio_therapy',\n",
       "       'tumor_size', 'tumor_stage', 'type_of_breast_surgery_BREAST CONSERVING',\n",
       "       'type_of_breast_surgery_MASTECTOMY', 'cancer_type_detailed_Breast',\n",
       "       'cancer_type_detailed_Breast Invasive Ductal Carcinoma',\n",
       "       'cancer_type_detailed_Breast Invasive Lobular Carcinoma',\n",
       "       'cancer_type_detailed_Breast Invasive Mixed Mucinous Carcinoma',\n",
       "       'cancer_type_detailed_Breast Mixed Ductal and Lobular Carcinoma',\n",
       "       'cellularity_High', 'cellularity_Low', 'cellularity_Moderate',\n",
       "       'pam50_+_claudin-low_subtype_Basal', 'pam50_+_claudin-low_subtype_Her2',\n",
       "       'pam50_+_claudin-low_subtype_LumA', 'pam50_+_claudin-low_subtype_LumB',\n",
       "       'pam50_+_claudin-low_subtype_NC', 'pam50_+_claudin-low_subtype_Normal',\n",
       "       'pam50_+_claudin-low_subtype_claudin-low',\n",
       "       'er_status_measured_by_ihc_Negative',\n",
       "       'er_status_measured_by_ihc_Positve', 'er_status_Negative',\n",
       "       'er_status_Positive', 'her2_status_measured_by_snp6_GAIN',\n",
       "       'her2_status_measured_by_snp6_LOSS',\n",
       "       'her2_status_measured_by_snp6_NEUTRAL',\n",
       "       'her2_status_measured_by_snp6_UNDEF', 'her2_status_Negative',\n",
       "       'her2_status_Positive', 'tumor_other_histologic_subtype_Ductal/NST',\n",
       "       'tumor_other_histologic_subtype_Lobular',\n",
       "       'tumor_other_histologic_subtype_Medullary',\n",
       "       'tumor_other_histologic_subtype_Mixed',\n",
       "       'tumor_other_histologic_subtype_Mucinous',\n",
       "       'tumor_other_histologic_subtype_Other',\n",
       "       'tumor_other_histologic_subtype_Tubular/ cribriform',\n",
       "       'inferred_menopausal_state_Post', 'inferred_menopausal_state_Pre',\n",
       "       'primary_tumor_laterality_Left', 'primary_tumor_laterality_Right',\n",
       "       'oncotree_code_BREAST', 'oncotree_code_IDC', 'oncotree_code_ILC',\n",
       "       'oncotree_code_IMMC', 'oncotree_code_MDLC', 'survival_period',\n",
       "       'pr_status_Negative', 'pr_status_Positive',\n",
       "       'death_from_cancer_Died of Disease',\n",
       "       'death_from_cancer_Died of Other Causes', 'death_from_cancer_Living'],\n",
       "      dtype='object')"
      ]
     },
     "execution_count": 6,
     "metadata": {},
     "output_type": "execute_result"
    }
   ],
   "source": [
    "# column names\n",
    "df.columns"
   ]
  },
  {
   "cell_type": "code",
   "execution_count": 7,
   "metadata": {},
   "outputs": [
    {
     "data": {
      "text/plain": [
       "age_at_diagnosis                          0\n",
       "chemotherapy                              0\n",
       "cohort                                    0\n",
       "neoplasm_histologic_grade                 0\n",
       "hormone_therapy                           0\n",
       "                                         ..\n",
       "pr_status_Negative                        0\n",
       "pr_status_Positive                        0\n",
       "death_from_cancer_Died of Disease         0\n",
       "death_from_cancer_Died of Other Causes    0\n",
       "death_from_cancer_Living                  0\n",
       "Length: 61, dtype: int64"
      ]
     },
     "execution_count": 7,
     "metadata": {},
     "output_type": "execute_result"
    }
   ],
   "source": [
    "# checking for null values\n",
    "df.isnull().sum()"
   ]
  },
  {
   "cell_type": "code",
   "execution_count": 8,
   "metadata": {},
   "outputs": [
    {
     "data": {
      "text/html": [
       "<div>\n",
       "<style scoped>\n",
       "    .dataframe tbody tr th:only-of-type {\n",
       "        vertical-align: middle;\n",
       "    }\n",
       "\n",
       "    .dataframe tbody tr th {\n",
       "        vertical-align: top;\n",
       "    }\n",
       "\n",
       "    .dataframe thead th {\n",
       "        text-align: right;\n",
       "    }\n",
       "</style>\n",
       "<table border=\"1\" class=\"dataframe\">\n",
       "  <thead>\n",
       "    <tr style=\"text-align: right;\">\n",
       "      <th></th>\n",
       "      <th>age_at_diagnosis</th>\n",
       "      <th>chemotherapy</th>\n",
       "      <th>cohort</th>\n",
       "      <th>neoplasm_histologic_grade</th>\n",
       "      <th>hormone_therapy</th>\n",
       "      <th>lymph_nodes_examined_positive</th>\n",
       "      <th>mutation_count</th>\n",
       "      <th>nottingham_prognostic_index</th>\n",
       "      <th>overall_survival</th>\n",
       "      <th>radio_therapy</th>\n",
       "      <th>...</th>\n",
       "      <th>oncotree_code_IDC</th>\n",
       "      <th>oncotree_code_ILC</th>\n",
       "      <th>oncotree_code_IMMC</th>\n",
       "      <th>oncotree_code_MDLC</th>\n",
       "      <th>survival_period</th>\n",
       "      <th>pr_status_Negative</th>\n",
       "      <th>pr_status_Positive</th>\n",
       "      <th>death_from_cancer_Died of Disease</th>\n",
       "      <th>death_from_cancer_Died of Other Causes</th>\n",
       "      <th>death_from_cancer_Living</th>\n",
       "    </tr>\n",
       "  </thead>\n",
       "  <tbody>\n",
       "    <tr>\n",
       "      <th>count</th>\n",
       "      <td>1226.000000</td>\n",
       "      <td>1226.000000</td>\n",
       "      <td>1226.000000</td>\n",
       "      <td>1226.000000</td>\n",
       "      <td>1226.000000</td>\n",
       "      <td>1226.000000</td>\n",
       "      <td>1226.000000</td>\n",
       "      <td>1226.000000</td>\n",
       "      <td>1226.000000</td>\n",
       "      <td>1226.000000</td>\n",
       "      <td>...</td>\n",
       "      <td>1226.000000</td>\n",
       "      <td>1226.000000</td>\n",
       "      <td>1226.000000</td>\n",
       "      <td>1226.000000</td>\n",
       "      <td>1226.000000</td>\n",
       "      <td>1226.000000</td>\n",
       "      <td>1226.000000</td>\n",
       "      <td>1226.000000</td>\n",
       "      <td>1226.000000</td>\n",
       "      <td>1226.000000</td>\n",
       "    </tr>\n",
       "    <tr>\n",
       "      <th>mean</th>\n",
       "      <td>59.894780</td>\n",
       "      <td>0.221044</td>\n",
       "      <td>2.227569</td>\n",
       "      <td>2.449429</td>\n",
       "      <td>0.608483</td>\n",
       "      <td>1.915171</td>\n",
       "      <td>5.475530</td>\n",
       "      <td>4.132712</td>\n",
       "      <td>0.433931</td>\n",
       "      <td>0.675367</td>\n",
       "      <td>...</td>\n",
       "      <td>0.794454</td>\n",
       "      <td>0.069331</td>\n",
       "      <td>0.010604</td>\n",
       "      <td>0.121533</td>\n",
       "      <td>1.962480</td>\n",
       "      <td>0.477162</td>\n",
       "      <td>0.522838</td>\n",
       "      <td>0.344209</td>\n",
       "      <td>0.221860</td>\n",
       "      <td>0.433931</td>\n",
       "    </tr>\n",
       "    <tr>\n",
       "      <th>std</th>\n",
       "      <td>13.006919</td>\n",
       "      <td>0.415119</td>\n",
       "      <td>0.951694</td>\n",
       "      <td>0.638470</td>\n",
       "      <td>0.488289</td>\n",
       "      <td>3.924718</td>\n",
       "      <td>3.769888</td>\n",
       "      <td>1.061198</td>\n",
       "      <td>0.495818</td>\n",
       "      <td>0.468429</td>\n",
       "      <td>...</td>\n",
       "      <td>0.404265</td>\n",
       "      <td>0.254120</td>\n",
       "      <td>0.102468</td>\n",
       "      <td>0.326880</td>\n",
       "      <td>0.893639</td>\n",
       "      <td>0.499682</td>\n",
       "      <td>0.499682</td>\n",
       "      <td>0.475303</td>\n",
       "      <td>0.415667</td>\n",
       "      <td>0.495818</td>\n",
       "    </tr>\n",
       "    <tr>\n",
       "      <th>min</th>\n",
       "      <td>21.000000</td>\n",
       "      <td>0.000000</td>\n",
       "      <td>1.000000</td>\n",
       "      <td>1.000000</td>\n",
       "      <td>0.000000</td>\n",
       "      <td>0.000000</td>\n",
       "      <td>1.000000</td>\n",
       "      <td>2.002000</td>\n",
       "      <td>0.000000</td>\n",
       "      <td>0.000000</td>\n",
       "      <td>...</td>\n",
       "      <td>0.000000</td>\n",
       "      <td>0.000000</td>\n",
       "      <td>0.000000</td>\n",
       "      <td>0.000000</td>\n",
       "      <td>1.000000</td>\n",
       "      <td>0.000000</td>\n",
       "      <td>0.000000</td>\n",
       "      <td>0.000000</td>\n",
       "      <td>0.000000</td>\n",
       "      <td>0.000000</td>\n",
       "    </tr>\n",
       "    <tr>\n",
       "      <th>25%</th>\n",
       "      <td>50.000000</td>\n",
       "      <td>0.000000</td>\n",
       "      <td>1.000000</td>\n",
       "      <td>2.000000</td>\n",
       "      <td>0.000000</td>\n",
       "      <td>0.000000</td>\n",
       "      <td>3.000000</td>\n",
       "      <td>3.052000</td>\n",
       "      <td>0.000000</td>\n",
       "      <td>0.000000</td>\n",
       "      <td>...</td>\n",
       "      <td>1.000000</td>\n",
       "      <td>0.000000</td>\n",
       "      <td>0.000000</td>\n",
       "      <td>0.000000</td>\n",
       "      <td>1.000000</td>\n",
       "      <td>0.000000</td>\n",
       "      <td>0.000000</td>\n",
       "      <td>0.000000</td>\n",
       "      <td>0.000000</td>\n",
       "      <td>0.000000</td>\n",
       "    </tr>\n",
       "    <tr>\n",
       "      <th>50%</th>\n",
       "      <td>61.000000</td>\n",
       "      <td>0.000000</td>\n",
       "      <td>2.000000</td>\n",
       "      <td>3.000000</td>\n",
       "      <td>1.000000</td>\n",
       "      <td>0.000000</td>\n",
       "      <td>5.000000</td>\n",
       "      <td>4.046000</td>\n",
       "      <td>0.000000</td>\n",
       "      <td>1.000000</td>\n",
       "      <td>...</td>\n",
       "      <td>1.000000</td>\n",
       "      <td>0.000000</td>\n",
       "      <td>0.000000</td>\n",
       "      <td>0.000000</td>\n",
       "      <td>2.000000</td>\n",
       "      <td>0.000000</td>\n",
       "      <td>1.000000</td>\n",
       "      <td>0.000000</td>\n",
       "      <td>0.000000</td>\n",
       "      <td>0.000000</td>\n",
       "    </tr>\n",
       "    <tr>\n",
       "      <th>75%</th>\n",
       "      <td>69.000000</td>\n",
       "      <td>0.000000</td>\n",
       "      <td>3.000000</td>\n",
       "      <td>3.000000</td>\n",
       "      <td>1.000000</td>\n",
       "      <td>2.000000</td>\n",
       "      <td>7.000000</td>\n",
       "      <td>5.045500</td>\n",
       "      <td>1.000000</td>\n",
       "      <td>1.000000</td>\n",
       "      <td>...</td>\n",
       "      <td>1.000000</td>\n",
       "      <td>0.000000</td>\n",
       "      <td>0.000000</td>\n",
       "      <td>0.000000</td>\n",
       "      <td>3.000000</td>\n",
       "      <td>1.000000</td>\n",
       "      <td>1.000000</td>\n",
       "      <td>1.000000</td>\n",
       "      <td>0.000000</td>\n",
       "      <td>1.000000</td>\n",
       "    </tr>\n",
       "    <tr>\n",
       "      <th>max</th>\n",
       "      <td>96.000000</td>\n",
       "      <td>1.000000</td>\n",
       "      <td>5.000000</td>\n",
       "      <td>3.000000</td>\n",
       "      <td>1.000000</td>\n",
       "      <td>41.000000</td>\n",
       "      <td>46.000000</td>\n",
       "      <td>6.360000</td>\n",
       "      <td>1.000000</td>\n",
       "      <td>1.000000</td>\n",
       "      <td>...</td>\n",
       "      <td>1.000000</td>\n",
       "      <td>1.000000</td>\n",
       "      <td>1.000000</td>\n",
       "      <td>1.000000</td>\n",
       "      <td>4.000000</td>\n",
       "      <td>1.000000</td>\n",
       "      <td>1.000000</td>\n",
       "      <td>1.000000</td>\n",
       "      <td>1.000000</td>\n",
       "      <td>1.000000</td>\n",
       "    </tr>\n",
       "  </tbody>\n",
       "</table>\n",
       "<p>8 rows × 61 columns</p>\n",
       "</div>"
      ],
      "text/plain": [
       "       age_at_diagnosis  chemotherapy       cohort  neoplasm_histologic_grade  \\\n",
       "count       1226.000000   1226.000000  1226.000000                1226.000000   \n",
       "mean          59.894780      0.221044     2.227569                   2.449429   \n",
       "std           13.006919      0.415119     0.951694                   0.638470   \n",
       "min           21.000000      0.000000     1.000000                   1.000000   \n",
       "25%           50.000000      0.000000     1.000000                   2.000000   \n",
       "50%           61.000000      0.000000     2.000000                   3.000000   \n",
       "75%           69.000000      0.000000     3.000000                   3.000000   \n",
       "max           96.000000      1.000000     5.000000                   3.000000   \n",
       "\n",
       "       hormone_therapy  lymph_nodes_examined_positive  mutation_count  \\\n",
       "count      1226.000000                    1226.000000     1226.000000   \n",
       "mean          0.608483                       1.915171        5.475530   \n",
       "std           0.488289                       3.924718        3.769888   \n",
       "min           0.000000                       0.000000        1.000000   \n",
       "25%           0.000000                       0.000000        3.000000   \n",
       "50%           1.000000                       0.000000        5.000000   \n",
       "75%           1.000000                       2.000000        7.000000   \n",
       "max           1.000000                      41.000000       46.000000   \n",
       "\n",
       "       nottingham_prognostic_index  overall_survival  radio_therapy  ...  \\\n",
       "count                  1226.000000       1226.000000    1226.000000  ...   \n",
       "mean                      4.132712          0.433931       0.675367  ...   \n",
       "std                       1.061198          0.495818       0.468429  ...   \n",
       "min                       2.002000          0.000000       0.000000  ...   \n",
       "25%                       3.052000          0.000000       0.000000  ...   \n",
       "50%                       4.046000          0.000000       1.000000  ...   \n",
       "75%                       5.045500          1.000000       1.000000  ...   \n",
       "max                       6.360000          1.000000       1.000000  ...   \n",
       "\n",
       "       oncotree_code_IDC  oncotree_code_ILC  oncotree_code_IMMC  \\\n",
       "count        1226.000000        1226.000000         1226.000000   \n",
       "mean            0.794454           0.069331            0.010604   \n",
       "std             0.404265           0.254120            0.102468   \n",
       "min             0.000000           0.000000            0.000000   \n",
       "25%             1.000000           0.000000            0.000000   \n",
       "50%             1.000000           0.000000            0.000000   \n",
       "75%             1.000000           0.000000            0.000000   \n",
       "max             1.000000           1.000000            1.000000   \n",
       "\n",
       "       oncotree_code_MDLC  survival_period  pr_status_Negative  \\\n",
       "count         1226.000000      1226.000000         1226.000000   \n",
       "mean             0.121533         1.962480            0.477162   \n",
       "std              0.326880         0.893639            0.499682   \n",
       "min              0.000000         1.000000            0.000000   \n",
       "25%              0.000000         1.000000            0.000000   \n",
       "50%              0.000000         2.000000            0.000000   \n",
       "75%              0.000000         3.000000            1.000000   \n",
       "max              1.000000         4.000000            1.000000   \n",
       "\n",
       "       pr_status_Positive  death_from_cancer_Died of Disease  \\\n",
       "count         1226.000000                        1226.000000   \n",
       "mean             0.522838                           0.344209   \n",
       "std              0.499682                           0.475303   \n",
       "min              0.000000                           0.000000   \n",
       "25%              0.000000                           0.000000   \n",
       "50%              1.000000                           0.000000   \n",
       "75%              1.000000                           1.000000   \n",
       "max              1.000000                           1.000000   \n",
       "\n",
       "       death_from_cancer_Died of Other Causes  death_from_cancer_Living  \n",
       "count                             1226.000000               1226.000000  \n",
       "mean                                 0.221860                  0.433931  \n",
       "std                                  0.415667                  0.495818  \n",
       "min                                  0.000000                  0.000000  \n",
       "25%                                  0.000000                  0.000000  \n",
       "50%                                  0.000000                  0.000000  \n",
       "75%                                  0.000000                  1.000000  \n",
       "max                                  1.000000                  1.000000  \n",
       "\n",
       "[8 rows x 61 columns]"
      ]
     },
     "execution_count": 8,
     "metadata": {},
     "output_type": "execute_result"
    }
   ],
   "source": [
    "# description of table attributes\n",
    "df.describe()"
   ]
  },
  {
   "cell_type": "code",
   "execution_count": 9,
   "metadata": {},
   "outputs": [
    {
     "data": {
      "text/plain": [
       "survival_period\n",
       "1.0    459\n",
       "2.0    408\n",
       "3.0    305\n",
       "4.0     54\n",
       "Name: count, dtype: int64"
      ]
     },
     "execution_count": 9,
     "metadata": {},
     "output_type": "execute_result"
    }
   ],
   "source": [
    "# count values for 'survival_period'\n",
    "df['survival_period'].value_counts()"
   ]
  },
  {
   "cell_type": "code",
   "execution_count": 10,
   "metadata": {},
   "outputs": [
    {
     "name": "stderr",
     "output_type": "stream",
     "text": [
      "C:\\Users\\ADITYA\\AppData\\Local\\Temp\\ipykernel_10460\\3687392531.py:3: FutureWarning: \n",
      "\n",
      "Passing `palette` without assigning `hue` is deprecated and will be removed in v0.14.0. Assign the `x` variable to `hue` and set `legend=False` for the same effect.\n",
      "\n",
      "  sns.countplot(x=\"survival_period\", data=df, palette='magma')\n"
     ]
    },
    {
     "data": {
      "text/plain": [
       "<Axes: xlabel='survival_period', ylabel='count'>"
      ]
     },
     "execution_count": 10,
     "metadata": {},
     "output_type": "execute_result"
    },
    {
     "data": {
      "image/png": "[encoded data removed]",
      "text/plain": [
       "<Figure size 800x700 with 1 Axes>"
      ]
     },
     "metadata": {},
     "output_type": "display_data"
    }
   ],
   "source": [
    "# countplot for 'survival_period'\n",
    "plt.figure(figsize = (8,7))\n",
    "sns.countplot(x=\"survival_period\", data=df, palette='magma')"
   ]
  },
  {
   "cell_type": "code",
   "execution_count": 11,
   "metadata": {},
   "outputs": [],
   "source": [
    "# heatmap for columns\n",
    "# plt.figure(figsize=(20, 18))\n",
    "# sns.heatmap(df.corr(), annot=True, linewidths=.5, cmap=\"Purples\")\n",
    "# plt.show()"
   ]
  },
  {
   "cell_type": "code",
   "execution_count": 12,
   "metadata": {},
   "outputs": [
    {
     "name": "stdout",
     "output_type": "stream",
     "text": [
      "Shape of training set: (1103, 60)\n",
      "Shape of test set: (123, 60)\n"
     ]
    }
   ],
   "source": [
    "# splitting data into training and testing\n",
    "\n",
    "from sklearn.model_selection import train_test_split\n",
    "\n",
    "X_train, X_test, y_train, y_test = train_test_split(\n",
    "                df.drop('survival_period', axis=1),\n",
    "                df['survival_period'],\n",
    "                test_size=0.1,\n",
    "                random_state=42)\n",
    "\n",
    "print(\"Shape of training set:\", X_train.shape)\n",
    "print(\"Shape of test set:\", X_test.shape)"
   ]
  },
  {
   "cell_type": "code",
   "execution_count": 13,
   "metadata": {},
   "outputs": [],
   "source": [
    "#standardising the data\n",
    "\n",
    "from sklearn.preprocessing import StandardScaler\n",
    "\n",
    "ss = StandardScaler()\n",
    "X_train = ss.fit_transform(X_train)\n",
    "X_test = ss.fit_transform(X_test)"
   ]
  },
  {
   "cell_type": "code",
   "execution_count": 14,
   "metadata": {},
   "outputs": [],
   "source": [
    "# Logistic Regression Model\n",
    "\n",
    "from sklearn.linear_model import LogisticRegression"
   ]
  },
  {
   "cell_type": "code",
   "execution_count": 15,
   "metadata": {},
   "outputs": [],
   "source": [
    "logreg = LogisticRegression(max_iter=1000)\n",
    "logreg.fit(X_train, y_train)\n",
    "predictions1 = logreg.predict(X_test)"
   ]
  },
  {
   "cell_type": "code",
   "execution_count": 16,
   "metadata": {},
   "outputs": [
    {
     "name": "stdout",
     "output_type": "stream",
     "text": [
      "Confusion Matrix: \n",
      " [[33 12  5  0]\n",
      " [16 18  5  0]\n",
      " [ 1  9 18  1]\n",
      " [ 1  0  4  0]]\n",
      "\n",
      "\n",
      "              precision    recall  f1-score   support\n",
      "\n",
      "         1.0       0.65      0.66      0.65        50\n",
      "         2.0       0.46      0.46      0.46        39\n",
      "         3.0       0.56      0.62      0.59        29\n",
      "         4.0       0.00      0.00      1.00         5\n",
      "\n",
      "    accuracy                           0.56       123\n",
      "   macro avg       0.42      0.44      0.68       123\n",
      "weighted avg       0.54      0.56      0.59       123\n",
      "\n"
     ]
    }
   ],
   "source": [
    "# confusion matrix for logistic regression\n",
    "\n",
    "from sklearn.metrics import confusion_matrix, classification_report\n",
    "\n",
    "print(\"Confusion Matrix: \\n\", confusion_matrix(y_test, predictions1))\n",
    "print('\\n')\n",
    "print(classification_report(y_test, predictions1, zero_division=1))"
   ]
  },
  {
   "cell_type": "code",
   "execution_count": 17,
   "metadata": {},
   "outputs": [
    {
     "name": "stdout",
     "output_type": "stream",
     "text": [
      "Accuracy of the Logistic Regression Model is:  0.5609756097560976\n"
     ]
    }
   ],
   "source": [
    "# accuracy of logistic regression\n",
    "\n",
    "from sklearn.metrics import accuracy_score\n",
    "\n",
    "logreg_acc = accuracy_score(y_test, predictions1)\n",
    "print(\"Accuracy of the Logistic Regression Model is: \", logreg_acc)"
   ]
  },
  {
   "cell_type": "code",
   "execution_count": 18,
   "metadata": {},
   "outputs": [],
   "source": [
    "# KNN Classifier\n",
    "\n",
    "from sklearn.neighbors import KNeighborsClassifier"
   ]
  },
  {
   "cell_type": "code",
   "execution_count": 19,
   "metadata": {},
   "outputs": [],
   "source": [
    "# to find which value shows the lowest mean error\n",
    "error_rate = []\n",
    "\n",
    "for i in range(1,42):\n",
    "    knn = KNeighborsClassifier(n_neighbors=i)\n",
    "    knn.fit(X_train, y_train)\n",
    "    pred_i = knn.predict(X_test)\n",
    "    error_rate.append(np.mean(pred_i != y_test))"
   ]
  },
  {
   "cell_type": "code",
   "execution_count": 20,
   "metadata": {},
   "outputs": [
    {
     "data": {
      "image/png": "[encoded data removed]",
      "text/plain": [
       "<Figure size 1200x600 with 1 Axes>"
      ]
     },
     "metadata": {},
     "output_type": "display_data"
    }
   ],
   "source": [
    "# plotting error_rate v/s k-value\n",
    "\n",
    "plt.figure(figsize=(12,6))\n",
    "plt.plot(range(1,42), error_rate, color='purple', linestyle=\"--\",\n",
    "         marker='o', markersize=10, markerfacecolor='b')\n",
    "plt.title('Error_Rate vs K-value')\n",
    "plt.show()"
   ]
  },
  {
   "cell_type": "code",
   "execution_count": 21,
   "metadata": {},
   "outputs": [],
   "source": [
    "knn = KNeighborsClassifier(n_neighbors=9)\n",
    "knn.fit(X_train, y_train)\n",
    "predictions2 = knn.predict(X_test)"
   ]
  },
  {
   "cell_type": "code",
   "execution_count": 22,
   "metadata": {},
   "outputs": [
    {
     "name": "stdout",
     "output_type": "stream",
     "text": [
      "[[31 16  3  0]\n",
      " [15 18  6  0]\n",
      " [10 11  8  0]\n",
      " [ 0  2  3  0]]\n",
      "\n",
      "\n",
      "              precision    recall  f1-score   support\n",
      "\n",
      "         1.0       0.55      0.62      0.58        50\n",
      "         2.0       0.38      0.46      0.42        39\n",
      "         3.0       0.40      0.28      0.33        29\n",
      "         4.0       1.00      0.00      0.00         5\n",
      "\n",
      "    accuracy                           0.46       123\n",
      "   macro avg       0.58      0.34      0.33       123\n",
      "weighted avg       0.48      0.46      0.45       123\n",
      "\n"
     ]
    }
   ],
   "source": [
    "# confusion matrix for knn\n",
    "\n",
    "print(confusion_matrix(y_test, predictions2))\n",
    "print(\"\\n\")\n",
    "print(classification_report(y_test, predictions2, zero_division=1))"
   ]
  },
  {
   "cell_type": "code",
   "execution_count": 23,
   "metadata": {},
   "outputs": [
    {
     "name": "stdout",
     "output_type": "stream",
     "text": [
      "Accuracy of K Neighbors Classifier Model is:  0.4634146341463415\n"
     ]
    }
   ],
   "source": [
    "# accuracy for knn model\n",
    "\n",
    "knn_model_acc = accuracy_score(y_test, predictions2)\n",
    "print(\"Accuracy of K Neighbors Classifier Model is: \", knn_model_acc)"
   ]
  },
  {
   "cell_type": "code",
   "execution_count": 24,
   "metadata": {},
   "outputs": [],
   "source": [
    "# Random Forest classifier\n",
    "\n",
    "from sklearn.ensemble import RandomForestClassifier"
   ]
  },
  {
   "cell_type": "code",
   "execution_count": 25,
   "metadata": {},
   "outputs": [],
   "source": [
    "rfc = RandomForestClassifier(n_estimators=300)\n",
    "rfc.fit(X_train, y_train)\n",
    "predictions3 = rfc.predict(X_test)"
   ]
  },
  {
   "cell_type": "code",
   "execution_count": 26,
   "metadata": {},
   "outputs": [
    {
     "name": "stdout",
     "output_type": "stream",
     "text": [
      "Confusion Matrix: \n",
      " [[35 11  4  0]\n",
      " [14 19  6  0]\n",
      " [ 1  9 19  0]\n",
      " [ 1  0  4  0]]\n",
      "\n",
      "\n",
      "              precision    recall  f1-score   support\n",
      "\n",
      "         1.0       0.69      0.70      0.69        50\n",
      "         2.0       0.49      0.49      0.49        39\n",
      "         3.0       0.58      0.66      0.61        29\n",
      "         4.0       1.00      0.00      0.00         5\n",
      "\n",
      "    accuracy                           0.59       123\n",
      "   macro avg       0.69      0.46      0.45       123\n",
      "weighted avg       0.61      0.59      0.58       123\n",
      "\n"
     ]
    }
   ],
   "source": [
    "# confusion matrix for random forest classifier\n",
    "\n",
    "print(\"Confusion Matrix: \\n\", confusion_matrix(y_test, predictions3))\n",
    "print(\"\\n\")\n",
    "print(classification_report(y_test, predictions3, zero_division=1))"
   ]
  },
  {
   "cell_type": "code",
   "execution_count": 27,
   "metadata": {},
   "outputs": [
    {
     "name": "stdout",
     "output_type": "stream",
     "text": [
      "Accuracy of Random Forests Model is:  0.5934959349593496\n"
     ]
    }
   ],
   "source": [
    "# accuracy for random forest classifier\n",
    "\n",
    "rfc_acc = accuracy_score(y_test, predictions3)\n",
    "print(\"Accuracy of Random Forests Model is: \", rfc_acc)"
   ]
  },
  {
   "cell_type": "code",
   "execution_count": 28,
   "metadata": {},
   "outputs": [],
   "source": [
    "# State Vector Machine\n",
    "\n",
    "from sklearn.svm import SVC"
   ]
  },
  {
   "cell_type": "code",
   "execution_count": 29,
   "metadata": {},
   "outputs": [],
   "source": [
    "svc_model = SVC(kernel=\"rbf\")\n",
    "svc_model.fit(X_train, y_train)\n",
    "predictions4 = svc_model.predict(X_test)"
   ]
  },
  {
   "cell_type": "code",
   "execution_count": 30,
   "metadata": {},
   "outputs": [
    {
     "name": "stdout",
     "output_type": "stream",
     "text": [
      "Confusion Matrix: \n",
      " [[34 11  5  0]\n",
      " [12 23  4  0]\n",
      " [ 2  7 20  0]\n",
      " [ 1  0  4  0]]\n",
      "\n",
      "\n",
      "              precision    recall  f1-score   support\n",
      "\n",
      "         1.0       0.69      0.68      0.69        50\n",
      "         2.0       0.56      0.59      0.57        39\n",
      "         3.0       0.61      0.69      0.65        29\n",
      "         4.0       1.00      0.00      0.00         5\n",
      "\n",
      "    accuracy                           0.63       123\n",
      "   macro avg       0.72      0.49      0.48       123\n",
      "weighted avg       0.64      0.63      0.61       123\n",
      "\n"
     ]
    }
   ],
   "source": [
    "# confusion matrix for svm\n",
    "\n",
    "print(\"Confusion Matrix: \\n\", confusion_matrix(y_test, predictions4))\n",
    "print(\"\\n\")\n",
    "print(classification_report(y_test, predictions4, zero_division=1))"
   ]
  },
  {
   "cell_type": "code",
   "execution_count": 31,
   "metadata": {},
   "outputs": [
    {
     "name": "stdout",
     "output_type": "stream",
     "text": [
      "Accuracy of SVM model is:  0.6260162601626016\n"
     ]
    }
   ],
   "source": [
    "# accuracy of svm\n",
    "\n",
    "svm_acc = accuracy_score(y_test, predictions4)\n",
    "print(\"Accuracy of SVM model is: \", svm_acc)"
   ]
  },
  {
   "cell_type": "code",
   "execution_count": 32,
   "metadata": {},
   "outputs": [],
   "source": [
    "# Naive Bayes Model\n",
    "\n",
    "from sklearn.naive_bayes import GaussianNB"
   ]
  },
  {
   "cell_type": "code",
   "execution_count": 33,
   "metadata": {},
   "outputs": [],
   "source": [
    "nb_model = GaussianNB()\n",
    "nb_model.fit(X_train, y_train)\n",
    "predictions5 = nb_model.predict(X_test)"
   ]
  },
  {
   "cell_type": "code",
   "execution_count": 34,
   "metadata": {},
   "outputs": [
    {
     "name": "stdout",
     "output_type": "stream",
     "text": [
      "Confusion Matrix: \n",
      " [[37  0 13  0]\n",
      " [22  0 17  0]\n",
      " [13  0 16  0]\n",
      " [ 1  0  4  0]]\n",
      "\n",
      "\n",
      "              precision    recall  f1-score   support\n",
      "\n",
      "         1.0       0.51      0.74      0.60        50\n",
      "         2.0       1.00      0.00      0.00        39\n",
      "         3.0       0.32      0.55      0.41        29\n",
      "         4.0       1.00      0.00      0.00         5\n",
      "\n",
      "    accuracy                           0.43       123\n",
      "   macro avg       0.71      0.32      0.25       123\n",
      "weighted avg       0.64      0.43      0.34       123\n",
      "\n"
     ]
    }
   ],
   "source": [
    "# confusion matrix for naive bayes model\n",
    "\n",
    "print(\"Confusion Matrix: \\n\", confusion_matrix(y_test, predictions5))\n",
    "print(\"\\n\")\n",
    "print(classification_report(y_test, predictions5, zero_division=1))"
   ]
  },
  {
   "cell_type": "code",
   "execution_count": 35,
   "metadata": {},
   "outputs": [
    {
     "name": "stdout",
     "output_type": "stream",
     "text": [
      "Accuracy of Naive Bayes model is:  0.43089430894308944\n"
     ]
    }
   ],
   "source": [
    "# accuracy for naive bayes model\n",
    "\n",
    "nb_acc = accuracy_score(y_test, predictions5)\n",
    "print(\"Accuracy of Naive Bayes model is: \", nb_acc)"
   ]
  },
  {
   "cell_type": "code",
   "execution_count": 38,
   "metadata": {},
   "outputs": [],
   "source": [
    "#Input parameters (60) for prediction\n",
    "input_data = [73,0,1,1.0,0,0,1.0,2.06,0,30.0,2.0,0,1,0,1,0,0,0,0,0,1,0,0,1,0,0,0,0,0,1,0,1,0,0,1,0,1,0,1,0,0,0,0,0,0,1,0,0,1,0,1,0,0,0,1.0,0,1,0,0,1]"
   ]
  },
  {
   "cell_type": "code",
   "execution_count": 39,
   "metadata": {},
   "outputs": [
    {
     "name": "stderr",
     "output_type": "stream",
     "text": [
      "c:\\Users\\ADITYA\\AppData\\Local\\Programs\\Python\\Python312\\Lib\\site-packages\\sklearn\\base.py:465: UserWarning: X does not have valid feature names, but StandardScaler was fitted with feature names\n",
      "  warnings.warn(\n"
     ]
    }
   ],
   "source": [
    "# Scaling the new data using the standard scaler\n",
    "input_data_array = np.array(input_data).reshape(1, -1)\n",
    "input_data_array = ss.transform(input_data_array)"
   ]
  },
  {
   "cell_type": "code",
   "execution_count": 40,
   "metadata": {},
   "outputs": [
    {
     "name": "stdout",
     "output_type": "stream",
     "text": [
      "Predicted Survival Period:\n",
      "LR:  3.0\n",
      "KNN:  2.0\n",
      "RFC:  1.0\n",
      "SVM:  1.0\n",
      "NB:  3.0\n",
      "Average:  2.0\n"
     ]
    }
   ],
   "source": [
    "# Predicting the Survival Period (in quarters of a year) with different models\n",
    "\n",
    "# Logistic Regression\n",
    "predicted_survival = logreg.predict(input_data_array)\n",
    "ps_logreg = predicted_survival[0]\n",
    "\n",
    "# KNN\n",
    "predicted_survival = knn.predict(input_data_array)\n",
    "ps_knn = predicted_survival[0]\n",
    "\n",
    "# Random Forest\n",
    "predicted_survival = rfc.predict(input_data_array)\n",
    "ps_rfc = predicted_survival[0]\n",
    "\n",
    "# SVM\n",
    "predicted_survival = svc_model.predict(input_data_array)\n",
    "ps_svm = predicted_survival[0]\n",
    "\n",
    "# Naive Bayes\n",
    "predicted_survival = nb_model.predict(input_data_array)\n",
    "ps_nb = predicted_survival[0]\n",
    "\n",
    "ps_avg = (ps_logreg + ps_knn + ps_rfc + ps_svm + ps_nb)/5\n",
    "\n",
    "print(\"Predicted Survival Period:\")\n",
    "print(\"LR: \", ps_logreg)\n",
    "print(\"KNN: \", ps_knn)\n",
    "print(\"RFC: \", ps_rfc)\n",
    "print(\"SVM: \", ps_svm)\n",
    "print(\"NB: \", ps_nb)\n",
    "print(\"Average: \", ps_avg)"
   ]
  }
 ],
 "metadata": {
  "kernelspec": {
   "display_name": "Python 3",
   "language": "python",
   "name": "python3"
  },
  "language_info": {
   "codemirror_mode": {
    "name": "ipython",
    "version": 3
   },
   "file_extension": ".py",
   "mimetype": "text/x-python",
   "name": "python",
   "nbconvert_exporter": "python",
   "pygments_lexer": "ipython3",
   "version": "3.12.0"
  }
 },
 "nbformat": 4,
 "nbformat_minor": 2
}
